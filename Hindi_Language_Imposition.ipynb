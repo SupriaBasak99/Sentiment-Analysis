{
  "nbformat": 4,
  "nbformat_minor": 0,
  "metadata": {
    "colab": {
      "name": "Hindi_Language_Imposition.ipynb",
      "provenance": [],
      "collapsed_sections": [],
      "authorship_tag": "ABX9TyMZqQ4njpdnHF3wpujzcvSV",
      "include_colab_link": true
    },
    "kernelspec": {
      "name": "python3",
      "display_name": "Python 3"
    }
  },
  "cells": [
    {
      "cell_type": "markdown",
      "metadata": {
        "id": "view-in-github",
        "colab_type": "text"
      },
      "source": [
        "<a href=\"https://colab.research.google.com/github/SupriaBasak99/Sentiment-Analysis/blob/main/Hindi_Language_Imposition.ipynb\" target=\"_parent\"><img src=\"https://colab.research.google.com/assets/colab-badge.svg\" alt=\"Open In Colab\"/></a>"
      ]
    },
    {
      "cell_type": "code",
      "metadata": {
        "id": "uc5u0FSw2KpE"
      },
      "source": [
        ""
      ],
      "execution_count": null,
      "outputs": []
    },
    {
      "cell_type": "code",
      "metadata": {
        "id": "zw2pC2K95-pX",
        "colab": {
          "base_uri": "https://localhost:8080/"
        },
        "outputId": "ac017bd4-79d5-4edc-848d-9c7339f466ff"
      },
      "source": [
        "!pip install pandas\n",
        "!pip install tweepy\n",
        "!pip install vaderSentiment"
      ],
      "execution_count": null,
      "outputs": [
        {
          "output_type": "stream",
          "text": [
            "Requirement already satisfied: pandas in /usr/local/lib/python3.6/dist-packages (1.1.5)\n",
            "Requirement already satisfied: numpy>=1.15.4 in /usr/local/lib/python3.6/dist-packages (from pandas) (1.19.5)\n",
            "Requirement already satisfied: pytz>=2017.2 in /usr/local/lib/python3.6/dist-packages (from pandas) (2018.9)\n",
            "Requirement already satisfied: python-dateutil>=2.7.3 in /usr/local/lib/python3.6/dist-packages (from pandas) (2.8.1)\n",
            "Requirement already satisfied: six>=1.5 in /usr/local/lib/python3.6/dist-packages (from python-dateutil>=2.7.3->pandas) (1.15.0)\n",
            "Requirement already satisfied: tweepy in /usr/local/lib/python3.6/dist-packages (3.6.0)\n",
            "Requirement already satisfied: PySocks>=1.5.7 in /usr/local/lib/python3.6/dist-packages (from tweepy) (1.7.1)\n",
            "Requirement already satisfied: requests-oauthlib>=0.7.0 in /usr/local/lib/python3.6/dist-packages (from tweepy) (1.3.0)\n",
            "Requirement already satisfied: six>=1.10.0 in /usr/local/lib/python3.6/dist-packages (from tweepy) (1.15.0)\n",
            "Requirement already satisfied: requests>=2.11.1 in /usr/local/lib/python3.6/dist-packages (from tweepy) (2.23.0)\n",
            "Requirement already satisfied: oauthlib>=3.0.0 in /usr/local/lib/python3.6/dist-packages (from requests-oauthlib>=0.7.0->tweepy) (3.1.0)\n",
            "Requirement already satisfied: chardet<4,>=3.0.2 in /usr/local/lib/python3.6/dist-packages (from requests>=2.11.1->tweepy) (3.0.4)\n",
            "Requirement already satisfied: urllib3!=1.25.0,!=1.25.1,<1.26,>=1.21.1 in /usr/local/lib/python3.6/dist-packages (from requests>=2.11.1->tweepy) (1.24.3)\n",
            "Requirement already satisfied: certifi>=2017.4.17 in /usr/local/lib/python3.6/dist-packages (from requests>=2.11.1->tweepy) (2020.12.5)\n",
            "Requirement already satisfied: idna<3,>=2.5 in /usr/local/lib/python3.6/dist-packages (from requests>=2.11.1->tweepy) (2.10)\n",
            "Collecting vaderSentiment\n",
            "\u001b[?25l  Downloading https://files.pythonhosted.org/packages/76/fc/310e16254683c1ed35eeb97386986d6c00bc29df17ce280aed64d55537e9/vaderSentiment-3.3.2-py2.py3-none-any.whl (125kB)\n",
            "\u001b[K     |████████████████████████████████| 133kB 8.8MB/s \n",
            "\u001b[?25hRequirement already satisfied: requests in /usr/local/lib/python3.6/dist-packages (from vaderSentiment) (2.23.0)\n",
            "Requirement already satisfied: certifi>=2017.4.17 in /usr/local/lib/python3.6/dist-packages (from requests->vaderSentiment) (2020.12.5)\n",
            "Requirement already satisfied: urllib3!=1.25.0,!=1.25.1,<1.26,>=1.21.1 in /usr/local/lib/python3.6/dist-packages (from requests->vaderSentiment) (1.24.3)\n",
            "Requirement already satisfied: idna<3,>=2.5 in /usr/local/lib/python3.6/dist-packages (from requests->vaderSentiment) (2.10)\n",
            "Requirement already satisfied: chardet<4,>=3.0.2 in /usr/local/lib/python3.6/dist-packages (from requests->vaderSentiment) (3.0.4)\n",
            "Installing collected packages: vaderSentiment\n",
            "Successfully installed vaderSentiment-3.3.2\n"
          ],
          "name": "stdout"
        }
      ]
    },
    {
      "cell_type": "code",
      "metadata": {
        "id": "nm8SX74j6s6u"
      },
      "source": [
        "import tweepy\n",
        "import pandas as pd\n",
        "from nltk.sentiment.vader import SentimentIntensityAnalyzer"
      ],
      "execution_count": null,
      "outputs": []
    },
    {
      "cell_type": "code",
      "metadata": {
        "id": "MQfAnYrI62Vt",
        "colab": {
          "base_uri": "https://localhost:8080/"
        },
        "outputId": "b30d5fdf-4c85-4963-eb30-a9e9f67491b0"
      },
      "source": [
        "pip install twython"
      ],
      "execution_count": null,
      "outputs": [
        {
          "output_type": "stream",
          "text": [
            "Collecting twython\n",
            "  Downloading https://files.pythonhosted.org/packages/24/80/579b96dfaa9b536efde883d4f0df7ea2598a6f3117a6dd572787f4a2bcfb/twython-3.8.2-py3-none-any.whl\n",
            "Requirement already satisfied: requests-oauthlib>=0.4.0 in /usr/local/lib/python3.6/dist-packages (from twython) (1.3.0)\n",
            "Requirement already satisfied: requests>=2.1.0 in /usr/local/lib/python3.6/dist-packages (from twython) (2.23.0)\n",
            "Requirement already satisfied: oauthlib>=3.0.0 in /usr/local/lib/python3.6/dist-packages (from requests-oauthlib>=0.4.0->twython) (3.1.0)\n",
            "Requirement already satisfied: urllib3!=1.25.0,!=1.25.1,<1.26,>=1.21.1 in /usr/local/lib/python3.6/dist-packages (from requests>=2.1.0->twython) (1.24.3)\n",
            "Requirement already satisfied: certifi>=2017.4.17 in /usr/local/lib/python3.6/dist-packages (from requests>=2.1.0->twython) (2020.12.5)\n",
            "Requirement already satisfied: idna<3,>=2.5 in /usr/local/lib/python3.6/dist-packages (from requests>=2.1.0->twython) (2.10)\n",
            "Requirement already satisfied: chardet<4,>=3.0.2 in /usr/local/lib/python3.6/dist-packages (from requests>=2.1.0->twython) (3.0.4)\n",
            "Installing collected packages: twython\n",
            "Successfully installed twython-3.8.2\n"
          ],
          "name": "stdout"
        }
      ]
    },
    {
      "cell_type": "code",
      "metadata": {
        "id": "brsWESKR7MrZ"
      },
      "source": [
        "import tweepy\n",
        "import pandas as pd\n",
        "from nltk.sentiment.vader import SentimentIntensityAnalyzer"
      ],
      "execution_count": null,
      "outputs": []
    },
    {
      "cell_type": "code",
      "metadata": {
        "id": "XxLVb-9y9A2n"
      },
      "source": [
        "consumer_key = 'Kscwx3rtp59vynWAUrt2pE3Db'\n",
        "consumer_secret = 'Jk4vX9l8luOodcyWTQAeyF90koohCFHZHnkn7ejtzTrrzWZXlA'\n",
        "access_token = '1183347538503458821-IFUIVUUvXeJAFBXfZ4z0dInQG2DwSq'\n",
        "access_token_secret = '58wA3WN78XgnJfwrDb7Kdc3sO7Z7mfsYNPtyu4OsNMrHK'"
      ],
      "execution_count": null,
      "outputs": []
    },
    {
      "cell_type": "code",
      "metadata": {
        "id": "f9blmc0s9B-B",
        "colab": {
          "base_uri": "https://localhost:8080/",
          "height": 366
        },
        "outputId": "ba0fbcc0-a50e-4cdf-ad82-081e16c02c3f"
      },
      "source": [
        "auth = tweepy.OAuthHandler(consumer_key, consumer_secret)\n",
        "auth.set_access_token(access_token, access_token_secret)\n",
        "\n",
        "api = tweepy.API(auth)\n",
        "\n",
        "tweets = api.search('Hindi language imposition', count=100000)\n",
        "\n",
        "\n",
        "data = pd.DataFrame(data=[tweet.text for tweet in tweets], columns=['Tweets'])\n",
        "\n",
        "display(data.head(10))\n",
        "\n",
        "\n",
        "print(tweets[0].created_at)\n"
      ],
      "execution_count": null,
      "outputs": [
        {
          "output_type": "display_data",
          "data": {
            "text/html": [
              "<div>\n",
              "<style scoped>\n",
              "    .dataframe tbody tr th:only-of-type {\n",
              "        vertical-align: middle;\n",
              "    }\n",
              "\n",
              "    .dataframe tbody tr th {\n",
              "        vertical-align: top;\n",
              "    }\n",
              "\n",
              "    .dataframe thead th {\n",
              "        text-align: right;\n",
              "    }\n",
              "</style>\n",
              "<table border=\"1\" class=\"dataframe\">\n",
              "  <thead>\n",
              "    <tr style=\"text-align: right;\">\n",
              "      <th></th>\n",
              "      <th>Tweets</th>\n",
              "    </tr>\n",
              "  </thead>\n",
              "  <tbody>\n",
              "    <tr>\n",
              "      <th>0</th>\n",
              "      <td>RT @JaidevJamwal: @capt_amarinder @narendramod...</td>\n",
              "    </tr>\n",
              "    <tr>\n",
              "      <th>1</th>\n",
              "      <td>@prachiharmalkar @smileinsparrow @geniustamil1...</td>\n",
              "    </tr>\n",
              "    <tr>\n",
              "      <th>2</th>\n",
              "      <td>Ironically, some of the worst spoken Hindi I h...</td>\n",
              "    </tr>\n",
              "    <tr>\n",
              "      <th>3</th>\n",
              "      <td>RT @JaidevJamwal: @capt_amarinder @narendramod...</td>\n",
              "    </tr>\n",
              "    <tr>\n",
              "      <th>4</th>\n",
              "      <td>RT @BesuraTaansane: @upma23 Soon it will be La...</td>\n",
              "    </tr>\n",
              "    <tr>\n",
              "      <th>5</th>\n",
              "      <td>RT @JaidevJamwal: @capt_amarinder @narendramod...</td>\n",
              "    </tr>\n",
              "    <tr>\n",
              "      <th>6</th>\n",
              "      <td>RT @BesuraTaansane: @upma23 Soon it will be La...</td>\n",
              "    </tr>\n",
              "    <tr>\n",
              "      <th>7</th>\n",
              "      <td>RT @BesuraTaansane: @upma23 Soon it will be La...</td>\n",
              "    </tr>\n",
              "    <tr>\n",
              "      <th>8</th>\n",
              "      <td>RT @BesuraTaansane: @upma23 Soon it will be La...</td>\n",
              "    </tr>\n",
              "    <tr>\n",
              "      <th>9</th>\n",
              "      <td>RT @BesuraTaansane: @upma23 Soon it will be La...</td>\n",
              "    </tr>\n",
              "  </tbody>\n",
              "</table>\n",
              "</div>"
            ],
            "text/plain": [
              "                                              Tweets\n",
              "0  RT @JaidevJamwal: @capt_amarinder @narendramod...\n",
              "1  @prachiharmalkar @smileinsparrow @geniustamil1...\n",
              "2  Ironically, some of the worst spoken Hindi I h...\n",
              "3  RT @JaidevJamwal: @capt_amarinder @narendramod...\n",
              "4  RT @BesuraTaansane: @upma23 Soon it will be La...\n",
              "5  RT @JaidevJamwal: @capt_amarinder @narendramod...\n",
              "6  RT @BesuraTaansane: @upma23 Soon it will be La...\n",
              "7  RT @BesuraTaansane: @upma23 Soon it will be La...\n",
              "8  RT @BesuraTaansane: @upma23 Soon it will be La...\n",
              "9  RT @BesuraTaansane: @upma23 Soon it will be La..."
            ]
          },
          "metadata": {
            "tags": []
          }
        },
        {
          "output_type": "stream",
          "text": [
            "2021-01-29 15:45:25\n"
          ],
          "name": "stdout"
        }
      ]
    },
    {
      "cell_type": "code",
      "metadata": {
        "id": "6DqVumq39Hj8",
        "colab": {
          "base_uri": "https://localhost:8080/"
        },
        "outputId": "605943c8-55b8-410a-ef57-40e22310e7d4"
      },
      "source": [
        "import nltk\n",
        "nltk.download('vader_lexicon')"
      ],
      "execution_count": null,
      "outputs": [
        {
          "output_type": "stream",
          "text": [
            "[nltk_data] Downloading package vader_lexicon to /root/nltk_data...\n"
          ],
          "name": "stdout"
        },
        {
          "output_type": "execute_result",
          "data": {
            "text/plain": [
              "True"
            ]
          },
          "metadata": {
            "tags": []
          },
          "execution_count": 8
        }
      ]
    },
    {
      "cell_type": "code",
      "metadata": {
        "id": "vR08TFMP9K8P",
        "colab": {
          "base_uri": "https://localhost:8080/",
          "height": 408
        },
        "outputId": "4a52b083-f4b8-4eee-dce4-7cef6f79797d"
      },
      "source": [
        "sid = SentimentIntensityAnalyzer()\n",
        "\n",
        "\n",
        "listy = []\n",
        "\n",
        "for index, row in data.iterrows():\n",
        "  ss = sid.polarity_scores(row[\"Tweets\"])\n",
        "  listy.append(ss)\n",
        "  \n",
        "se = pd.Series(listy)\n",
        "data['polarity'] = se.values\n",
        "display(data.head(1000))"
      ],
      "execution_count": null,
      "outputs": [
        {
          "output_type": "display_data",
          "data": {
            "text/html": [
              "<div>\n",
              "<style scoped>\n",
              "    .dataframe tbody tr th:only-of-type {\n",
              "        vertical-align: middle;\n",
              "    }\n",
              "\n",
              "    .dataframe tbody tr th {\n",
              "        vertical-align: top;\n",
              "    }\n",
              "\n",
              "    .dataframe thead th {\n",
              "        text-align: right;\n",
              "    }\n",
              "</style>\n",
              "<table border=\"1\" class=\"dataframe\">\n",
              "  <thead>\n",
              "    <tr style=\"text-align: right;\">\n",
              "      <th></th>\n",
              "      <th>Tweets</th>\n",
              "      <th>polarity</th>\n",
              "    </tr>\n",
              "  </thead>\n",
              "  <tbody>\n",
              "    <tr>\n",
              "      <th>0</th>\n",
              "      <td>RT @JaidevJamwal: @capt_amarinder @narendramod...</td>\n",
              "      <td>{'neg': 0.091, 'neu': 0.909, 'pos': 0.0, 'comp...</td>\n",
              "    </tr>\n",
              "    <tr>\n",
              "      <th>1</th>\n",
              "      <td>@prachiharmalkar @smileinsparrow @geniustamil1...</td>\n",
              "      <td>{'neg': 0.0, 'neu': 1.0, 'pos': 0.0, 'compound...</td>\n",
              "    </tr>\n",
              "    <tr>\n",
              "      <th>2</th>\n",
              "      <td>Ironically, some of the worst spoken Hindi I h...</td>\n",
              "      <td>{'neg': 0.168, 'neu': 0.779, 'pos': 0.053, 'co...</td>\n",
              "    </tr>\n",
              "    <tr>\n",
              "      <th>3</th>\n",
              "      <td>RT @JaidevJamwal: @capt_amarinder @narendramod...</td>\n",
              "      <td>{'neg': 0.091, 'neu': 0.909, 'pos': 0.0, 'comp...</td>\n",
              "    </tr>\n",
              "    <tr>\n",
              "      <th>4</th>\n",
              "      <td>RT @BesuraTaansane: @upma23 Soon it will be La...</td>\n",
              "      <td>{'neg': 0.216, 'neu': 0.784, 'pos': 0.0, 'comp...</td>\n",
              "    </tr>\n",
              "    <tr>\n",
              "      <th>...</th>\n",
              "      <td>...</td>\n",
              "      <td>...</td>\n",
              "    </tr>\n",
              "    <tr>\n",
              "      <th>95</th>\n",
              "      <td>@shruthihm1 @ganeshchetan To be concerned abou...</td>\n",
              "      <td>{'neg': 0.0, 'neu': 0.653, 'pos': 0.347, 'comp...</td>\n",
              "    </tr>\n",
              "    <tr>\n",
              "      <th>96</th>\n",
              "      <td>To be concerned about the good of people is \"G...</td>\n",
              "      <td>{'neg': 0.0, 'neu': 0.679, 'pos': 0.321, 'comp...</td>\n",
              "    </tr>\n",
              "    <tr>\n",
              "      <th>97</th>\n",
              "      <td>RT @vasuvenugo: @nehajoychauhan @pachdagreat T...</td>\n",
              "      <td>{'neg': 0.095, 'neu': 0.776, 'pos': 0.129, 'co...</td>\n",
              "    </tr>\n",
              "    <tr>\n",
              "      <th>98</th>\n",
              "      <td>@nehajoychauhan @pachdagreat There is no North...</td>\n",
              "      <td>{'neg': 0.104, 'neu': 0.755, 'pos': 0.141, 'co...</td>\n",
              "    </tr>\n",
              "    <tr>\n",
              "      <th>99</th>\n",
              "      <td>RT @isai_: The brave sons of Tamizh Nadu lost ...</td>\n",
              "      <td>{'neg': 0.13, 'neu': 0.572, 'pos': 0.298, 'com...</td>\n",
              "    </tr>\n",
              "  </tbody>\n",
              "</table>\n",
              "<p>100 rows × 2 columns</p>\n",
              "</div>"
            ],
            "text/plain": [
              "                                               Tweets                                           polarity\n",
              "0   RT @JaidevJamwal: @capt_amarinder @narendramod...  {'neg': 0.091, 'neu': 0.909, 'pos': 0.0, 'comp...\n",
              "1   @prachiharmalkar @smileinsparrow @geniustamil1...  {'neg': 0.0, 'neu': 1.0, 'pos': 0.0, 'compound...\n",
              "2   Ironically, some of the worst spoken Hindi I h...  {'neg': 0.168, 'neu': 0.779, 'pos': 0.053, 'co...\n",
              "3   RT @JaidevJamwal: @capt_amarinder @narendramod...  {'neg': 0.091, 'neu': 0.909, 'pos': 0.0, 'comp...\n",
              "4   RT @BesuraTaansane: @upma23 Soon it will be La...  {'neg': 0.216, 'neu': 0.784, 'pos': 0.0, 'comp...\n",
              "..                                                ...                                                ...\n",
              "95  @shruthihm1 @ganeshchetan To be concerned abou...  {'neg': 0.0, 'neu': 0.653, 'pos': 0.347, 'comp...\n",
              "96  To be concerned about the good of people is \"G...  {'neg': 0.0, 'neu': 0.679, 'pos': 0.321, 'comp...\n",
              "97  RT @vasuvenugo: @nehajoychauhan @pachdagreat T...  {'neg': 0.095, 'neu': 0.776, 'pos': 0.129, 'co...\n",
              "98  @nehajoychauhan @pachdagreat There is no North...  {'neg': 0.104, 'neu': 0.755, 'pos': 0.141, 'co...\n",
              "99  RT @isai_: The brave sons of Tamizh Nadu lost ...  {'neg': 0.13, 'neu': 0.572, 'pos': 0.298, 'com...\n",
              "\n",
              "[100 rows x 2 columns]"
            ]
          },
          "metadata": {
            "tags": []
          }
        }
      ]
    },
    {
      "cell_type": "code",
      "metadata": {
        "id": "XWI25opK5RIn",
        "colab": {
          "base_uri": "https://localhost:8080/"
        },
        "outputId": "b1fa0f84-15f0-484c-e1aa-dd8de9dce046"
      },
      "source": [
        "import numpy as np\n",
        "newData=pd.Series(data['polarity'])\n",
        "dataframe=pd.DataFrame([])\n",
        "for i in range(len(newData)):\n",
        "  single=pd.Series(newData[i])\n",
        "  dataframe=pd.DataFrame.append(dataframe,single,ignore_index=True)\n",
        "print('Negative sentiment:',end='')\n",
        "print(np.mean(dataframe['neg']))\n",
        "print('Neutral sentiment:',end='')\n",
        "print(np.mean(dataframe['neu']))\n",
        "print('Positive sentiment:',end='')\n",
        "print(np.mean(dataframe['pos']))"
      ],
      "execution_count": null,
      "outputs": [
        {
          "output_type": "stream",
          "text": [
            "Negative sentiment:0.09418000000000014\n",
            "Neutral sentiment:0.8691600000000002\n",
            "Positive sentiment:0.03664\n"
          ],
          "name": "stdout"
        }
      ]
    }
  ]
}